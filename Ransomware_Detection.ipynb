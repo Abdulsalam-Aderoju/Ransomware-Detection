{
 "cells": [
  {
   "cell_type": "markdown",
   "id": "e9711c43",
   "metadata": {},
   "source": [
    "## Import Required Python Libraries"
   ]
  },
  {
   "cell_type": "code",
   "execution_count": 1,
   "id": "634fa1c8",
   "metadata": {},
   "outputs": [],
   "source": [
    "import numpy as np\n",
    "import pandas as pd\n",
    "import matplotlib.pyplot as plt\n",
    "from sklearn.model_selection import train_test_split\n",
    "from sklearn.model_selection import cross_validate\n",
    "from sklearn.svm import SVC\n",
    "from sklearn.ensemble import RandomForestClassifier\n",
    "from sklearn.metrics import classification_report\n",
    "from sklearn.metrics import confusion_matrix\n",
    "from sklearn.metrics import plot_roc_curve"
   ]
  },
  {
   "cell_type": "markdown",
   "id": "700d429d",
   "metadata": {},
   "source": [
    "## PART I: Initial Data Analysis And Preprocessing\n",
    "\n",
    "### Overview\n",
    "\n",
    "This is the IDA and Preprocessing component of this solution. The workflow for this notebook is outlined as follows:\n",
    "- Getting the data\n",
    "- First insights: Making sense of the data"
   ]
  },
  {
   "cell_type": "markdown",
   "id": "e7392b0a",
   "metadata": {},
   "source": [
    "## 1. Import the data"
   ]
  },
  {
   "cell_type": "code",
   "execution_count": 2,
   "id": "ef894a64",
   "metadata": {},
   "outputs": [
    {
     "data": {
      "text/html": [
       "<div>\n",
       "<style scoped>\n",
       "    .dataframe tbody tr th:only-of-type {\n",
       "        vertical-align: middle;\n",
       "    }\n",
       "\n",
       "    .dataframe tbody tr th {\n",
       "        vertical-align: top;\n",
       "    }\n",
       "\n",
       "    .dataframe thead th {\n",
       "        text-align: right;\n",
       "    }\n",
       "</style>\n",
       "<table border=\"1\" class=\"dataframe\">\n",
       "  <thead>\n",
       "    <tr style=\"text-align: right;\">\n",
       "      <th></th>\n",
       "      <th>FileName</th>\n",
       "      <th>md5Hash</th>\n",
       "      <th>Machine</th>\n",
       "      <th>DebugSize</th>\n",
       "      <th>DebugRVA</th>\n",
       "      <th>MajorImageVersion</th>\n",
       "      <th>MajorOSVersion</th>\n",
       "      <th>ExportRVA</th>\n",
       "      <th>ExportSize</th>\n",
       "      <th>IatVRA</th>\n",
       "      <th>MajorLinkerVersion</th>\n",
       "      <th>MinorLinkerVersion</th>\n",
       "      <th>NumberOfSections</th>\n",
       "      <th>SizeOfStackReserve</th>\n",
       "      <th>DllCharacteristics</th>\n",
       "      <th>ResourceSize</th>\n",
       "      <th>BitcoinAddresses</th>\n",
       "      <th>Benign</th>\n",
       "    </tr>\n",
       "  </thead>\n",
       "  <tbody>\n",
       "    <tr>\n",
       "      <th>0</th>\n",
       "      <td>0124e21d-018c-4ce0-92a3-b9e205a76bc0.dll</td>\n",
       "      <td>79755c51e413ed3c6be4635fd729a6e1</td>\n",
       "      <td>332</td>\n",
       "      <td>0</td>\n",
       "      <td>0</td>\n",
       "      <td>0</td>\n",
       "      <td>4</td>\n",
       "      <td>0</td>\n",
       "      <td>0</td>\n",
       "      <td>8192</td>\n",
       "      <td>8</td>\n",
       "      <td>0</td>\n",
       "      <td>3</td>\n",
       "      <td>1048576</td>\n",
       "      <td>34112</td>\n",
       "      <td>672</td>\n",
       "      <td>0</td>\n",
       "      <td>1</td>\n",
       "    </tr>\n",
       "    <tr>\n",
       "      <th>1</th>\n",
       "      <td>05c8318f98a5d301d80000009c316005.vertdll.dll</td>\n",
       "      <td>95e19f3657d34a432eada93221b0ea16</td>\n",
       "      <td>34404</td>\n",
       "      <td>84</td>\n",
       "      <td>121728</td>\n",
       "      <td>10</td>\n",
       "      <td>10</td>\n",
       "      <td>126576</td>\n",
       "      <td>4930</td>\n",
       "      <td>0</td>\n",
       "      <td>14</td>\n",
       "      <td>10</td>\n",
       "      <td>8</td>\n",
       "      <td>262144</td>\n",
       "      <td>16864</td>\n",
       "      <td>1024</td>\n",
       "      <td>0</td>\n",
       "      <td>1</td>\n",
       "    </tr>\n",
       "    <tr>\n",
       "      <th>2</th>\n",
       "      <td>06054fba-5619-4a86-a861-ffb0464bef5d.dll</td>\n",
       "      <td>85c32641d77a54e19ba8ea4ab305c791</td>\n",
       "      <td>332</td>\n",
       "      <td>0</td>\n",
       "      <td>0</td>\n",
       "      <td>0</td>\n",
       "      <td>4</td>\n",
       "      <td>0</td>\n",
       "      <td>0</td>\n",
       "      <td>8192</td>\n",
       "      <td>8</td>\n",
       "      <td>0</td>\n",
       "      <td>3</td>\n",
       "      <td>1048576</td>\n",
       "      <td>34112</td>\n",
       "      <td>672</td>\n",
       "      <td>0</td>\n",
       "      <td>1</td>\n",
       "    </tr>\n",
       "    <tr>\n",
       "      <th>3</th>\n",
       "      <td>075822ac99a5d301660400009c316005.adhapi.dll</td>\n",
       "      <td>62e3b959d982ef534b66f819fe15f085</td>\n",
       "      <td>34404</td>\n",
       "      <td>84</td>\n",
       "      <td>19904</td>\n",
       "      <td>10</td>\n",
       "      <td>10</td>\n",
       "      <td>21312</td>\n",
       "      <td>252</td>\n",
       "      <td>18160</td>\n",
       "      <td>14</td>\n",
       "      <td>10</td>\n",
       "      <td>6</td>\n",
       "      <td>262144</td>\n",
       "      <td>16736</td>\n",
       "      <td>1040</td>\n",
       "      <td>0</td>\n",
       "      <td>1</td>\n",
       "    </tr>\n",
       "    <tr>\n",
       "      <th>4</th>\n",
       "      <td>090607dd9ba5d301ca0900009c316005.SensorsNative...</td>\n",
       "      <td>ae38c5f7d313ad0ff3bfb8826476767f</td>\n",
       "      <td>34404</td>\n",
       "      <td>84</td>\n",
       "      <td>97728</td>\n",
       "      <td>10</td>\n",
       "      <td>10</td>\n",
       "      <td>105792</td>\n",
       "      <td>1852</td>\n",
       "      <td>70592</td>\n",
       "      <td>14</td>\n",
       "      <td>10</td>\n",
       "      <td>7</td>\n",
       "      <td>262144</td>\n",
       "      <td>16736</td>\n",
       "      <td>1096</td>\n",
       "      <td>0</td>\n",
       "      <td>1</td>\n",
       "    </tr>\n",
       "  </tbody>\n",
       "</table>\n",
       "</div>"
      ],
      "text/plain": [
       "                                            FileName  \\\n",
       "0           0124e21d-018c-4ce0-92a3-b9e205a76bc0.dll   \n",
       "1       05c8318f98a5d301d80000009c316005.vertdll.dll   \n",
       "2           06054fba-5619-4a86-a861-ffb0464bef5d.dll   \n",
       "3        075822ac99a5d301660400009c316005.adhapi.dll   \n",
       "4  090607dd9ba5d301ca0900009c316005.SensorsNative...   \n",
       "\n",
       "                            md5Hash  Machine  DebugSize  DebugRVA  \\\n",
       "0  79755c51e413ed3c6be4635fd729a6e1      332          0         0   \n",
       "1  95e19f3657d34a432eada93221b0ea16    34404         84    121728   \n",
       "2  85c32641d77a54e19ba8ea4ab305c791      332          0         0   \n",
       "3  62e3b959d982ef534b66f819fe15f085    34404         84     19904   \n",
       "4  ae38c5f7d313ad0ff3bfb8826476767f    34404         84     97728   \n",
       "\n",
       "   MajorImageVersion  MajorOSVersion  ExportRVA  ExportSize  IatVRA  \\\n",
       "0                  0               4          0           0    8192   \n",
       "1                 10              10     126576        4930       0   \n",
       "2                  0               4          0           0    8192   \n",
       "3                 10              10      21312         252   18160   \n",
       "4                 10              10     105792        1852   70592   \n",
       "\n",
       "   MajorLinkerVersion  MinorLinkerVersion  NumberOfSections  \\\n",
       "0                   8                   0                 3   \n",
       "1                  14                  10                 8   \n",
       "2                   8                   0                 3   \n",
       "3                  14                  10                 6   \n",
       "4                  14                  10                 7   \n",
       "\n",
       "   SizeOfStackReserve  DllCharacteristics  ResourceSize  BitcoinAddresses  \\\n",
       "0             1048576               34112           672                 0   \n",
       "1              262144               16864          1024                 0   \n",
       "2             1048576               34112           672                 0   \n",
       "3              262144               16736          1040                 0   \n",
       "4              262144               16736          1096                 0   \n",
       "\n",
       "   Benign  \n",
       "0       1  \n",
       "1       1  \n",
       "2       1  \n",
       "3       1  \n",
       "4       1  "
      ]
     },
     "execution_count": 2,
     "metadata": {},
     "output_type": "execute_result"
    }
   ],
   "source": [
    "data = pd.read_csv(\"data_file.csv\")\n",
    "data.head()"
   ]
  },
  {
   "cell_type": "markdown",
   "id": "a7c968fe",
   "metadata": {},
   "source": [
    "## 2. Data Inspection"
   ]
  },
  {
   "cell_type": "code",
   "execution_count": 3,
   "id": "925c11a6",
   "metadata": {},
   "outputs": [
    {
     "name": "stdout",
     "output_type": "stream",
     "text": [
      "This data has 62485 Rows and 18 Columns\n"
     ]
    }
   ],
   "source": [
    "data_dim = data.shape\n",
    "\n",
    "print(f\"This data has {data_dim[0]} Rows and {data_dim[1]} Columns\")"
   ]
  },
  {
   "cell_type": "code",
   "execution_count": null,
   "id": "20cbcac5",
   "metadata": {},
   "outputs": [],
   "source": []
  },
  {
   "cell_type": "markdown",
   "id": "69cf8d27",
   "metadata": {},
   "source": [
    "## Part II: Exploratory Data Analysis and Feature Engineering\n",
    "<h4><b>Overview</b></h4>\n",
    "\n",
    "This is the EDA component of this solution. The workflow for this notebook is outlined as follows:\n",
    "- Data cleaning/manipulation\n",
    "- Multivariate Exploratory Analysis\n",
    "- Splitting the data (Using K-fold and single split)"
   ]
  },
  {
   "cell_type": "markdown",
   "id": "9d3688b1",
   "metadata": {},
   "source": [
    "## 1. Checking for null or unwanted values"
   ]
  },
  {
   "cell_type": "code",
   "execution_count": 4,
   "id": "0022adf7",
   "metadata": {},
   "outputs": [
    {
     "data": {
      "text/plain": [
       "FileName              0\n",
       "md5Hash               0\n",
       "Machine               0\n",
       "DebugSize             0\n",
       "DebugRVA              0\n",
       "MajorImageVersion     0\n",
       "MajorOSVersion        0\n",
       "ExportRVA             0\n",
       "ExportSize            0\n",
       "IatVRA                0\n",
       "MajorLinkerVersion    0\n",
       "MinorLinkerVersion    0\n",
       "NumberOfSections      0\n",
       "SizeOfStackReserve    0\n",
       "DllCharacteristics    0\n",
       "ResourceSize          0\n",
       "BitcoinAddresses      0\n",
       "Benign                0\n",
       "dtype: int64"
      ]
     },
     "execution_count": 4,
     "metadata": {},
     "output_type": "execute_result"
    }
   ],
   "source": [
    "data.isnull().sum()"
   ]
  },
  {
   "cell_type": "markdown",
   "id": "b10b8d59",
   "metadata": {},
   "source": [
    "## 2. Exploration"
   ]
  },
  {
   "cell_type": "code",
   "execution_count": 5,
   "id": "54f1f0e8",
   "metadata": {
    "scrolled": true
   },
   "outputs": [
    {
     "data": {
      "text/html": [
       "<div>\n",
       "<style scoped>\n",
       "    .dataframe tbody tr th:only-of-type {\n",
       "        vertical-align: middle;\n",
       "    }\n",
       "\n",
       "    .dataframe tbody tr th {\n",
       "        vertical-align: top;\n",
       "    }\n",
       "\n",
       "    .dataframe thead th {\n",
       "        text-align: right;\n",
       "    }\n",
       "</style>\n",
       "<table border=\"1\" class=\"dataframe\">\n",
       "  <thead>\n",
       "    <tr style=\"text-align: right;\">\n",
       "      <th></th>\n",
       "      <th>Machine</th>\n",
       "      <th>DebugSize</th>\n",
       "      <th>DebugRVA</th>\n",
       "      <th>MajorImageVersion</th>\n",
       "      <th>MajorOSVersion</th>\n",
       "      <th>ExportRVA</th>\n",
       "      <th>ExportSize</th>\n",
       "      <th>IatVRA</th>\n",
       "      <th>MajorLinkerVersion</th>\n",
       "      <th>MinorLinkerVersion</th>\n",
       "      <th>NumberOfSections</th>\n",
       "      <th>SizeOfStackReserve</th>\n",
       "      <th>DllCharacteristics</th>\n",
       "      <th>ResourceSize</th>\n",
       "      <th>BitcoinAddresses</th>\n",
       "      <th>Benign</th>\n",
       "    </tr>\n",
       "  </thead>\n",
       "  <tbody>\n",
       "    <tr>\n",
       "      <th>count</th>\n",
       "      <td>62485.000000</td>\n",
       "      <td>6.248500e+04</td>\n",
       "      <td>6.248500e+04</td>\n",
       "      <td>62485.000000</td>\n",
       "      <td>62485.000000</td>\n",
       "      <td>6.248500e+04</td>\n",
       "      <td>6.248500e+04</td>\n",
       "      <td>6.248500e+04</td>\n",
       "      <td>62485.000000</td>\n",
       "      <td>62485.000000</td>\n",
       "      <td>62485.000000</td>\n",
       "      <td>6.248500e+04</td>\n",
       "      <td>62485.000000</td>\n",
       "      <td>6.248500e+04</td>\n",
       "      <td>62485.000000</td>\n",
       "      <td>62485.000000</td>\n",
       "    </tr>\n",
       "    <tr>\n",
       "      <th>mean</th>\n",
       "      <td>6756.472657</td>\n",
       "      <td>2.587048e+04</td>\n",
       "      <td>1.541611e+05</td>\n",
       "      <td>58.785997</td>\n",
       "      <td>5.417524</td>\n",
       "      <td>8.953186e+05</td>\n",
       "      <td>4.094623e+05</td>\n",
       "      <td>1.466311e+05</td>\n",
       "      <td>9.782604</td>\n",
       "      <td>6.613171</td>\n",
       "      <td>4.751172</td>\n",
       "      <td>8.759830e+05</td>\n",
       "      <td>12966.031400</td>\n",
       "      <td>1.844664e+05</td>\n",
       "      <td>0.018004</td>\n",
       "      <td>0.433992</td>\n",
       "    </tr>\n",
       "    <tr>\n",
       "      <th>std</th>\n",
       "      <td>13345.499919</td>\n",
       "      <td>6.461396e+06</td>\n",
       "      <td>1.903142e+06</td>\n",
       "      <td>1114.068244</td>\n",
       "      <td>2.543697</td>\n",
       "      <td>3.779527e+07</td>\n",
       "      <td>2.851820e+07</td>\n",
       "      <td>1.124630e+06</td>\n",
       "      <td>9.047157</td>\n",
       "      <td>16.976465</td>\n",
       "      <td>2.138584</td>\n",
       "      <td>6.288189e+05</td>\n",
       "      <td>15762.725511</td>\n",
       "      <td>1.732625e+07</td>\n",
       "      <td>0.132968</td>\n",
       "      <td>0.495628</td>\n",
       "    </tr>\n",
       "    <tr>\n",
       "      <th>min</th>\n",
       "      <td>0.000000</td>\n",
       "      <td>0.000000e+00</td>\n",
       "      <td>0.000000e+00</td>\n",
       "      <td>0.000000</td>\n",
       "      <td>0.000000</td>\n",
       "      <td>0.000000e+00</td>\n",
       "      <td>0.000000e+00</td>\n",
       "      <td>0.000000e+00</td>\n",
       "      <td>0.000000</td>\n",
       "      <td>0.000000</td>\n",
       "      <td>1.000000</td>\n",
       "      <td>0.000000e+00</td>\n",
       "      <td>0.000000</td>\n",
       "      <td>0.000000e+00</td>\n",
       "      <td>0.000000</td>\n",
       "      <td>0.000000</td>\n",
       "    </tr>\n",
       "    <tr>\n",
       "      <th>25%</th>\n",
       "      <td>332.000000</td>\n",
       "      <td>0.000000e+00</td>\n",
       "      <td>0.000000e+00</td>\n",
       "      <td>0.000000</td>\n",
       "      <td>4.000000</td>\n",
       "      <td>0.000000e+00</td>\n",
       "      <td>0.000000e+00</td>\n",
       "      <td>4.096000e+03</td>\n",
       "      <td>6.000000</td>\n",
       "      <td>0.000000</td>\n",
       "      <td>3.000000</td>\n",
       "      <td>2.621440e+05</td>\n",
       "      <td>0.000000</td>\n",
       "      <td>1.080000e+03</td>\n",
       "      <td>0.000000</td>\n",
       "      <td>0.000000</td>\n",
       "    </tr>\n",
       "    <tr>\n",
       "      <th>50%</th>\n",
       "      <td>332.000000</td>\n",
       "      <td>0.000000e+00</td>\n",
       "      <td>0.000000e+00</td>\n",
       "      <td>0.000000</td>\n",
       "      <td>5.000000</td>\n",
       "      <td>0.000000e+00</td>\n",
       "      <td>0.000000e+00</td>\n",
       "      <td>8.520000e+03</td>\n",
       "      <td>9.000000</td>\n",
       "      <td>0.000000</td>\n",
       "      <td>5.000000</td>\n",
       "      <td>1.048576e+06</td>\n",
       "      <td>320.000000</td>\n",
       "      <td>2.496000e+03</td>\n",
       "      <td>0.000000</td>\n",
       "      <td>0.000000</td>\n",
       "    </tr>\n",
       "    <tr>\n",
       "      <th>75%</th>\n",
       "      <td>332.000000</td>\n",
       "      <td>2.800000e+01</td>\n",
       "      <td>1.283200e+04</td>\n",
       "      <td>6.000000</td>\n",
       "      <td>6.000000</td>\n",
       "      <td>2.875200e+04</td>\n",
       "      <td>1.040000e+02</td>\n",
       "      <td>6.553600e+04</td>\n",
       "      <td>11.000000</td>\n",
       "      <td>10.000000</td>\n",
       "      <td>6.000000</td>\n",
       "      <td>1.048576e+06</td>\n",
       "      <td>32768.000000</td>\n",
       "      <td>2.350400e+04</td>\n",
       "      <td>0.000000</td>\n",
       "      <td>1.000000</td>\n",
       "    </tr>\n",
       "    <tr>\n",
       "      <th>max</th>\n",
       "      <td>43620.000000</td>\n",
       "      <td>1.615155e+09</td>\n",
       "      <td>2.852127e+08</td>\n",
       "      <td>63325.000000</td>\n",
       "      <td>260.000000</td>\n",
       "      <td>2.147484e+09</td>\n",
       "      <td>2.415919e+09</td>\n",
       "      <td>6.615450e+07</td>\n",
       "      <td>255.000000</td>\n",
       "      <td>255.000000</td>\n",
       "      <td>33.000000</td>\n",
       "      <td>1.677722e+07</td>\n",
       "      <td>58632.000000</td>\n",
       "      <td>4.294942e+09</td>\n",
       "      <td>1.000000</td>\n",
       "      <td>1.000000</td>\n",
       "    </tr>\n",
       "  </tbody>\n",
       "</table>\n",
       "</div>"
      ],
      "text/plain": [
       "            Machine     DebugSize      DebugRVA  MajorImageVersion  \\\n",
       "count  62485.000000  6.248500e+04  6.248500e+04       62485.000000   \n",
       "mean    6756.472657  2.587048e+04  1.541611e+05          58.785997   \n",
       "std    13345.499919  6.461396e+06  1.903142e+06        1114.068244   \n",
       "min        0.000000  0.000000e+00  0.000000e+00           0.000000   \n",
       "25%      332.000000  0.000000e+00  0.000000e+00           0.000000   \n",
       "50%      332.000000  0.000000e+00  0.000000e+00           0.000000   \n",
       "75%      332.000000  2.800000e+01  1.283200e+04           6.000000   \n",
       "max    43620.000000  1.615155e+09  2.852127e+08       63325.000000   \n",
       "\n",
       "       MajorOSVersion     ExportRVA    ExportSize        IatVRA  \\\n",
       "count    62485.000000  6.248500e+04  6.248500e+04  6.248500e+04   \n",
       "mean         5.417524  8.953186e+05  4.094623e+05  1.466311e+05   \n",
       "std          2.543697  3.779527e+07  2.851820e+07  1.124630e+06   \n",
       "min          0.000000  0.000000e+00  0.000000e+00  0.000000e+00   \n",
       "25%          4.000000  0.000000e+00  0.000000e+00  4.096000e+03   \n",
       "50%          5.000000  0.000000e+00  0.000000e+00  8.520000e+03   \n",
       "75%          6.000000  2.875200e+04  1.040000e+02  6.553600e+04   \n",
       "max        260.000000  2.147484e+09  2.415919e+09  6.615450e+07   \n",
       "\n",
       "       MajorLinkerVersion  MinorLinkerVersion  NumberOfSections  \\\n",
       "count        62485.000000        62485.000000      62485.000000   \n",
       "mean             9.782604            6.613171          4.751172   \n",
       "std              9.047157           16.976465          2.138584   \n",
       "min              0.000000            0.000000          1.000000   \n",
       "25%              6.000000            0.000000          3.000000   \n",
       "50%              9.000000            0.000000          5.000000   \n",
       "75%             11.000000           10.000000          6.000000   \n",
       "max            255.000000          255.000000         33.000000   \n",
       "\n",
       "       SizeOfStackReserve  DllCharacteristics  ResourceSize  BitcoinAddresses  \\\n",
       "count        6.248500e+04        62485.000000  6.248500e+04      62485.000000   \n",
       "mean         8.759830e+05        12966.031400  1.844664e+05          0.018004   \n",
       "std          6.288189e+05        15762.725511  1.732625e+07          0.132968   \n",
       "min          0.000000e+00            0.000000  0.000000e+00          0.000000   \n",
       "25%          2.621440e+05            0.000000  1.080000e+03          0.000000   \n",
       "50%          1.048576e+06          320.000000  2.496000e+03          0.000000   \n",
       "75%          1.048576e+06        32768.000000  2.350400e+04          0.000000   \n",
       "max          1.677722e+07        58632.000000  4.294942e+09          1.000000   \n",
       "\n",
       "             Benign  \n",
       "count  62485.000000  \n",
       "mean       0.433992  \n",
       "std        0.495628  \n",
       "min        0.000000  \n",
       "25%        0.000000  \n",
       "50%        0.000000  \n",
       "75%        1.000000  \n",
       "max        1.000000  "
      ]
     },
     "execution_count": 5,
     "metadata": {},
     "output_type": "execute_result"
    }
   ],
   "source": [
    "data.describe()"
   ]
  },
  {
   "cell_type": "code",
   "execution_count": 6,
   "id": "d6b5c0de",
   "metadata": {},
   "outputs": [
    {
     "name": "stdout",
     "output_type": "stream",
     "text": [
      "<class 'pandas.core.frame.DataFrame'>\n",
      "RangeIndex: 62485 entries, 0 to 62484\n",
      "Data columns (total 18 columns):\n",
      " #   Column              Non-Null Count  Dtype \n",
      "---  ------              --------------  ----- \n",
      " 0   FileName            62485 non-null  object\n",
      " 1   md5Hash             62485 non-null  object\n",
      " 2   Machine             62485 non-null  int64 \n",
      " 3   DebugSize           62485 non-null  int64 \n",
      " 4   DebugRVA            62485 non-null  int64 \n",
      " 5   MajorImageVersion   62485 non-null  int64 \n",
      " 6   MajorOSVersion      62485 non-null  int64 \n",
      " 7   ExportRVA           62485 non-null  int64 \n",
      " 8   ExportSize          62485 non-null  int64 \n",
      " 9   IatVRA              62485 non-null  int64 \n",
      " 10  MajorLinkerVersion  62485 non-null  int64 \n",
      " 11  MinorLinkerVersion  62485 non-null  int64 \n",
      " 12  NumberOfSections    62485 non-null  int64 \n",
      " 13  SizeOfStackReserve  62485 non-null  int64 \n",
      " 14  DllCharacteristics  62485 non-null  int64 \n",
      " 15  ResourceSize        62485 non-null  int64 \n",
      " 16  BitcoinAddresses    62485 non-null  int64 \n",
      " 17  Benign              62485 non-null  int64 \n",
      "dtypes: int64(16), object(2)\n",
      "memory usage: 8.6+ MB\n"
     ]
    }
   ],
   "source": [
    "data.info()"
   ]
  },
  {
   "cell_type": "code",
   "execution_count": 7,
   "id": "66c25daa",
   "metadata": {},
   "outputs": [
    {
     "data": {
      "text/plain": [
       "0             36521\n",
       "28            12719\n",
       "84             8974\n",
       "56             4087\n",
       "112              89\n",
       "1                55\n",
       "536               9\n",
       "257               6\n",
       "32                3\n",
       "30                3\n",
       "512               3\n",
       "140               2\n",
       "109               1\n",
       "256               1\n",
       "102               1\n",
       "1236              1\n",
       "49                1\n",
       "16                1\n",
       "17                1\n",
       "1615155235        1\n",
       "135               1\n",
       "4                 1\n",
       "10                1\n",
       "1056              1\n",
       "276               1\n",
       "1072              1\n",
       "Name: DebugSize, dtype: int64"
      ]
     },
     "execution_count": 7,
     "metadata": {},
     "output_type": "execute_result"
    }
   ],
   "source": [
    "data[\"DebugSize\"].value_counts()"
   ]
  },
  {
   "cell_type": "code",
   "execution_count": 8,
   "id": "23e19867",
   "metadata": {},
   "outputs": [
    {
     "name": "stderr",
     "output_type": "stream",
     "text": [
      "C:\\Users\\adero\\AppData\\Local\\Temp/ipykernel_2648/724985837.py:1: FutureWarning: The behavior of `series[i:j]` with an integer-dtype index is deprecated. In a future version, this will be treated as *label-based* indexing, consistent with e.g. `series[i]` lookups. To retain the old behavior, use `series.iloc[i:j]`. To get the future behavior, use `series.loc[i:j]`.\n",
      "  data[\"NumberOfSections\"].value_counts()[:20]\n"
     ]
    },
    {
     "data": {
      "text/plain": [
       "5     15304\n",
       "3     14124\n",
       "4     10018\n",
       "6      7803\n",
       "2      5202\n",
       "7      4219\n",
       "8      1785\n",
       "9      1250\n",
       "10      855\n",
       "1       628\n",
       "11      500\n",
       "13      275\n",
       "12      273\n",
       "14       97\n",
       "17       39\n",
       "19       33\n",
       "15       22\n",
       "16       21\n",
       "18       16\n",
       "20        7\n",
       "Name: NumberOfSections, dtype: int64"
      ]
     },
     "execution_count": 8,
     "metadata": {},
     "output_type": "execute_result"
    }
   ],
   "source": [
    "data[\"NumberOfSections\"].value_counts()[:20]"
   ]
  },
  {
   "cell_type": "code",
   "execution_count": 9,
   "id": "9b5d46e1",
   "metadata": {},
   "outputs": [
    {
     "name": "stderr",
     "output_type": "stream",
     "text": [
      "C:\\Users\\adero\\AppData\\Local\\Temp/ipykernel_2648/1053635222.py:2: FutureWarning: The default value of numeric_only in DataFrame.corr is deprecated. In a future version, it will default to False. Select only valid columns or specify the value of numeric_only to silence this warning.\n",
      "  data.corr()\n"
     ]
    },
    {
     "data": {
      "text/html": [
       "<div>\n",
       "<style scoped>\n",
       "    .dataframe tbody tr th:only-of-type {\n",
       "        vertical-align: middle;\n",
       "    }\n",
       "\n",
       "    .dataframe tbody tr th {\n",
       "        vertical-align: top;\n",
       "    }\n",
       "\n",
       "    .dataframe thead th {\n",
       "        text-align: right;\n",
       "    }\n",
       "</style>\n",
       "<table border=\"1\" class=\"dataframe\">\n",
       "  <thead>\n",
       "    <tr style=\"text-align: right;\">\n",
       "      <th></th>\n",
       "      <th>Machine</th>\n",
       "      <th>DebugSize</th>\n",
       "      <th>DebugRVA</th>\n",
       "      <th>MajorImageVersion</th>\n",
       "      <th>MajorOSVersion</th>\n",
       "      <th>ExportRVA</th>\n",
       "      <th>ExportSize</th>\n",
       "      <th>IatVRA</th>\n",
       "      <th>MajorLinkerVersion</th>\n",
       "      <th>MinorLinkerVersion</th>\n",
       "      <th>NumberOfSections</th>\n",
       "      <th>SizeOfStackReserve</th>\n",
       "      <th>DllCharacteristics</th>\n",
       "      <th>ResourceSize</th>\n",
       "      <th>BitcoinAddresses</th>\n",
       "      <th>Benign</th>\n",
       "    </tr>\n",
       "  </thead>\n",
       "  <tbody>\n",
       "    <tr>\n",
       "      <th>Machine</th>\n",
       "      <td>1.000000</td>\n",
       "      <td>-0.001924</td>\n",
       "      <td>0.057530</td>\n",
       "      <td>0.044044</td>\n",
       "      <td>0.380672</td>\n",
       "      <td>-0.005199</td>\n",
       "      <td>-0.006838</td>\n",
       "      <td>0.077284</td>\n",
       "      <td>0.099463</td>\n",
       "      <td>-0.019648</td>\n",
       "      <td>0.220295</td>\n",
       "      <td>-0.232794</td>\n",
       "      <td>0.033809</td>\n",
       "      <td>-0.000603</td>\n",
       "      <td>0.070023</td>\n",
       "      <td>0.549434</td>\n",
       "    </tr>\n",
       "    <tr>\n",
       "      <th>DebugSize</th>\n",
       "      <td>-0.001924</td>\n",
       "      <td>1.000000</td>\n",
       "      <td>-0.000287</td>\n",
       "      <td>-0.000207</td>\n",
       "      <td>-0.002226</td>\n",
       "      <td>-0.000093</td>\n",
       "      <td>-0.000055</td>\n",
       "      <td>-0.000507</td>\n",
       "      <td>-0.001671</td>\n",
       "      <td>-0.001558</td>\n",
       "      <td>-0.003275</td>\n",
       "      <td>0.001208</td>\n",
       "      <td>-0.003290</td>\n",
       "      <td>-0.000042</td>\n",
       "      <td>-0.000541</td>\n",
       "      <td>-0.003500</td>\n",
       "    </tr>\n",
       "    <tr>\n",
       "      <th>DebugRVA</th>\n",
       "      <td>0.057530</td>\n",
       "      <td>-0.000287</td>\n",
       "      <td>1.000000</td>\n",
       "      <td>0.016538</td>\n",
       "      <td>0.022162</td>\n",
       "      <td>0.019699</td>\n",
       "      <td>-0.001079</td>\n",
       "      <td>0.457697</td>\n",
       "      <td>0.031796</td>\n",
       "      <td>-0.006481</td>\n",
       "      <td>0.049066</td>\n",
       "      <td>-0.009498</td>\n",
       "      <td>0.017233</td>\n",
       "      <td>0.000723</td>\n",
       "      <td>0.114187</td>\n",
       "      <td>0.072781</td>\n",
       "    </tr>\n",
       "    <tr>\n",
       "      <th>MajorImageVersion</th>\n",
       "      <td>0.044044</td>\n",
       "      <td>-0.000207</td>\n",
       "      <td>0.016538</td>\n",
       "      <td>1.000000</td>\n",
       "      <td>0.042068</td>\n",
       "      <td>-0.000102</td>\n",
       "      <td>-0.000756</td>\n",
       "      <td>0.012210</td>\n",
       "      <td>0.005562</td>\n",
       "      <td>-0.006564</td>\n",
       "      <td>0.026520</td>\n",
       "      <td>-0.027773</td>\n",
       "      <td>0.000987</td>\n",
       "      <td>-0.000445</td>\n",
       "      <td>-0.003054</td>\n",
       "      <td>0.049603</td>\n",
       "    </tr>\n",
       "    <tr>\n",
       "      <th>MajorOSVersion</th>\n",
       "      <td>0.380672</td>\n",
       "      <td>-0.002226</td>\n",
       "      <td>0.022162</td>\n",
       "      <td>0.042068</td>\n",
       "      <td>1.000000</td>\n",
       "      <td>-0.001781</td>\n",
       "      <td>-0.007947</td>\n",
       "      <td>0.054260</td>\n",
       "      <td>0.193996</td>\n",
       "      <td>0.012626</td>\n",
       "      <td>0.183420</td>\n",
       "      <td>-0.340831</td>\n",
       "      <td>0.071795</td>\n",
       "      <td>-0.001643</td>\n",
       "      <td>0.021022</td>\n",
       "      <td>0.398076</td>\n",
       "    </tr>\n",
       "    <tr>\n",
       "      <th>ExportRVA</th>\n",
       "      <td>-0.005199</td>\n",
       "      <td>-0.000093</td>\n",
       "      <td>0.019699</td>\n",
       "      <td>-0.000102</td>\n",
       "      <td>-0.001781</td>\n",
       "      <td>1.000000</td>\n",
       "      <td>0.183336</td>\n",
       "      <td>0.030379</td>\n",
       "      <td>0.002458</td>\n",
       "      <td>-0.004613</td>\n",
       "      <td>0.002855</td>\n",
       "      <td>0.004430</td>\n",
       "      <td>-0.017103</td>\n",
       "      <td>0.000624</td>\n",
       "      <td>0.004290</td>\n",
       "      <td>-0.012547</td>\n",
       "    </tr>\n",
       "    <tr>\n",
       "      <th>ExportSize</th>\n",
       "      <td>-0.006838</td>\n",
       "      <td>-0.000055</td>\n",
       "      <td>-0.001079</td>\n",
       "      <td>-0.000756</td>\n",
       "      <td>-0.007947</td>\n",
       "      <td>0.183336</td>\n",
       "      <td>1.000000</td>\n",
       "      <td>-0.001651</td>\n",
       "      <td>-0.012077</td>\n",
       "      <td>0.002214</td>\n",
       "      <td>0.025139</td>\n",
       "      <td>0.003927</td>\n",
       "      <td>-0.011794</td>\n",
       "      <td>-0.000084</td>\n",
       "      <td>-0.001738</td>\n",
       "      <td>-0.012457</td>\n",
       "    </tr>\n",
       "    <tr>\n",
       "      <th>IatVRA</th>\n",
       "      <td>0.077284</td>\n",
       "      <td>-0.000507</td>\n",
       "      <td>0.457697</td>\n",
       "      <td>0.012210</td>\n",
       "      <td>0.054260</td>\n",
       "      <td>0.030379</td>\n",
       "      <td>-0.001651</td>\n",
       "      <td>1.000000</td>\n",
       "      <td>0.029398</td>\n",
       "      <td>0.017115</td>\n",
       "      <td>0.120933</td>\n",
       "      <td>0.019149</td>\n",
       "      <td>-0.007297</td>\n",
       "      <td>0.001187</td>\n",
       "      <td>0.146013</td>\n",
       "      <td>0.084622</td>\n",
       "    </tr>\n",
       "    <tr>\n",
       "      <th>MajorLinkerVersion</th>\n",
       "      <td>0.099463</td>\n",
       "      <td>-0.001671</td>\n",
       "      <td>0.031796</td>\n",
       "      <td>0.005562</td>\n",
       "      <td>0.193996</td>\n",
       "      <td>0.002458</td>\n",
       "      <td>-0.012077</td>\n",
       "      <td>0.029398</td>\n",
       "      <td>1.000000</td>\n",
       "      <td>0.041021</td>\n",
       "      <td>0.017235</td>\n",
       "      <td>-0.028226</td>\n",
       "      <td>0.210027</td>\n",
       "      <td>-0.003666</td>\n",
       "      <td>0.015706</td>\n",
       "      <td>0.296925</td>\n",
       "    </tr>\n",
       "    <tr>\n",
       "      <th>MinorLinkerVersion</th>\n",
       "      <td>-0.019648</td>\n",
       "      <td>-0.001558</td>\n",
       "      <td>-0.006481</td>\n",
       "      <td>-0.006564</td>\n",
       "      <td>0.012626</td>\n",
       "      <td>-0.004613</td>\n",
       "      <td>0.002214</td>\n",
       "      <td>0.017115</td>\n",
       "      <td>0.041021</td>\n",
       "      <td>1.000000</td>\n",
       "      <td>0.178002</td>\n",
       "      <td>0.001123</td>\n",
       "      <td>-0.186791</td>\n",
       "      <td>0.004039</td>\n",
       "      <td>-0.024033</td>\n",
       "      <td>-0.111294</td>\n",
       "    </tr>\n",
       "    <tr>\n",
       "      <th>NumberOfSections</th>\n",
       "      <td>0.220295</td>\n",
       "      <td>-0.003275</td>\n",
       "      <td>0.049066</td>\n",
       "      <td>0.026520</td>\n",
       "      <td>0.183420</td>\n",
       "      <td>0.002855</td>\n",
       "      <td>0.025139</td>\n",
       "      <td>0.120933</td>\n",
       "      <td>0.017235</td>\n",
       "      <td>0.178002</td>\n",
       "      <td>1.000000</td>\n",
       "      <td>0.033020</td>\n",
       "      <td>-0.033054</td>\n",
       "      <td>0.008418</td>\n",
       "      <td>0.019807</td>\n",
       "      <td>-0.020433</td>\n",
       "    </tr>\n",
       "    <tr>\n",
       "      <th>SizeOfStackReserve</th>\n",
       "      <td>-0.232794</td>\n",
       "      <td>0.001208</td>\n",
       "      <td>-0.009498</td>\n",
       "      <td>-0.027773</td>\n",
       "      <td>-0.340831</td>\n",
       "      <td>0.004430</td>\n",
       "      <td>0.003927</td>\n",
       "      <td>0.019149</td>\n",
       "      <td>-0.028226</td>\n",
       "      <td>0.001123</td>\n",
       "      <td>0.033020</td>\n",
       "      <td>1.000000</td>\n",
       "      <td>0.023360</td>\n",
       "      <td>0.000919</td>\n",
       "      <td>-0.019754</td>\n",
       "      <td>-0.282151</td>\n",
       "    </tr>\n",
       "    <tr>\n",
       "      <th>DllCharacteristics</th>\n",
       "      <td>0.033809</td>\n",
       "      <td>-0.003290</td>\n",
       "      <td>0.017233</td>\n",
       "      <td>0.000987</td>\n",
       "      <td>0.071795</td>\n",
       "      <td>-0.017103</td>\n",
       "      <td>-0.011794</td>\n",
       "      <td>-0.007297</td>\n",
       "      <td>0.210027</td>\n",
       "      <td>-0.186791</td>\n",
       "      <td>-0.033054</td>\n",
       "      <td>0.023360</td>\n",
       "      <td>1.000000</td>\n",
       "      <td>-0.004083</td>\n",
       "      <td>-0.032010</td>\n",
       "      <td>0.261118</td>\n",
       "    </tr>\n",
       "    <tr>\n",
       "      <th>ResourceSize</th>\n",
       "      <td>-0.000603</td>\n",
       "      <td>-0.000042</td>\n",
       "      <td>0.000723</td>\n",
       "      <td>-0.000445</td>\n",
       "      <td>-0.001643</td>\n",
       "      <td>0.000624</td>\n",
       "      <td>-0.000084</td>\n",
       "      <td>0.001187</td>\n",
       "      <td>-0.003666</td>\n",
       "      <td>0.004039</td>\n",
       "      <td>0.008418</td>\n",
       "      <td>0.000919</td>\n",
       "      <td>-0.004083</td>\n",
       "      <td>1.000000</td>\n",
       "      <td>0.005666</td>\n",
       "      <td>-0.002168</td>\n",
       "    </tr>\n",
       "    <tr>\n",
       "      <th>BitcoinAddresses</th>\n",
       "      <td>0.070023</td>\n",
       "      <td>-0.000541</td>\n",
       "      <td>0.114187</td>\n",
       "      <td>-0.003054</td>\n",
       "      <td>0.021022</td>\n",
       "      <td>0.004290</td>\n",
       "      <td>-0.001738</td>\n",
       "      <td>0.146013</td>\n",
       "      <td>0.015706</td>\n",
       "      <td>-0.024033</td>\n",
       "      <td>0.019807</td>\n",
       "      <td>-0.019754</td>\n",
       "      <td>-0.032010</td>\n",
       "      <td>0.005666</td>\n",
       "      <td>1.000000</td>\n",
       "      <td>0.054824</td>\n",
       "    </tr>\n",
       "    <tr>\n",
       "      <th>Benign</th>\n",
       "      <td>0.549434</td>\n",
       "      <td>-0.003500</td>\n",
       "      <td>0.072781</td>\n",
       "      <td>0.049603</td>\n",
       "      <td>0.398076</td>\n",
       "      <td>-0.012547</td>\n",
       "      <td>-0.012457</td>\n",
       "      <td>0.084622</td>\n",
       "      <td>0.296925</td>\n",
       "      <td>-0.111294</td>\n",
       "      <td>-0.020433</td>\n",
       "      <td>-0.282151</td>\n",
       "      <td>0.261118</td>\n",
       "      <td>-0.002168</td>\n",
       "      <td>0.054824</td>\n",
       "      <td>1.000000</td>\n",
       "    </tr>\n",
       "  </tbody>\n",
       "</table>\n",
       "</div>"
      ],
      "text/plain": [
       "                     Machine  DebugSize  DebugRVA  MajorImageVersion  \\\n",
       "Machine             1.000000  -0.001924  0.057530           0.044044   \n",
       "DebugSize          -0.001924   1.000000 -0.000287          -0.000207   \n",
       "DebugRVA            0.057530  -0.000287  1.000000           0.016538   \n",
       "MajorImageVersion   0.044044  -0.000207  0.016538           1.000000   \n",
       "MajorOSVersion      0.380672  -0.002226  0.022162           0.042068   \n",
       "ExportRVA          -0.005199  -0.000093  0.019699          -0.000102   \n",
       "ExportSize         -0.006838  -0.000055 -0.001079          -0.000756   \n",
       "IatVRA              0.077284  -0.000507  0.457697           0.012210   \n",
       "MajorLinkerVersion  0.099463  -0.001671  0.031796           0.005562   \n",
       "MinorLinkerVersion -0.019648  -0.001558 -0.006481          -0.006564   \n",
       "NumberOfSections    0.220295  -0.003275  0.049066           0.026520   \n",
       "SizeOfStackReserve -0.232794   0.001208 -0.009498          -0.027773   \n",
       "DllCharacteristics  0.033809  -0.003290  0.017233           0.000987   \n",
       "ResourceSize       -0.000603  -0.000042  0.000723          -0.000445   \n",
       "BitcoinAddresses    0.070023  -0.000541  0.114187          -0.003054   \n",
       "Benign              0.549434  -0.003500  0.072781           0.049603   \n",
       "\n",
       "                    MajorOSVersion  ExportRVA  ExportSize    IatVRA  \\\n",
       "Machine                   0.380672  -0.005199   -0.006838  0.077284   \n",
       "DebugSize                -0.002226  -0.000093   -0.000055 -0.000507   \n",
       "DebugRVA                  0.022162   0.019699   -0.001079  0.457697   \n",
       "MajorImageVersion         0.042068  -0.000102   -0.000756  0.012210   \n",
       "MajorOSVersion            1.000000  -0.001781   -0.007947  0.054260   \n",
       "ExportRVA                -0.001781   1.000000    0.183336  0.030379   \n",
       "ExportSize               -0.007947   0.183336    1.000000 -0.001651   \n",
       "IatVRA                    0.054260   0.030379   -0.001651  1.000000   \n",
       "MajorLinkerVersion        0.193996   0.002458   -0.012077  0.029398   \n",
       "MinorLinkerVersion        0.012626  -0.004613    0.002214  0.017115   \n",
       "NumberOfSections          0.183420   0.002855    0.025139  0.120933   \n",
       "SizeOfStackReserve       -0.340831   0.004430    0.003927  0.019149   \n",
       "DllCharacteristics        0.071795  -0.017103   -0.011794 -0.007297   \n",
       "ResourceSize             -0.001643   0.000624   -0.000084  0.001187   \n",
       "BitcoinAddresses          0.021022   0.004290   -0.001738  0.146013   \n",
       "Benign                    0.398076  -0.012547   -0.012457  0.084622   \n",
       "\n",
       "                    MajorLinkerVersion  MinorLinkerVersion  NumberOfSections  \\\n",
       "Machine                       0.099463           -0.019648          0.220295   \n",
       "DebugSize                    -0.001671           -0.001558         -0.003275   \n",
       "DebugRVA                      0.031796           -0.006481          0.049066   \n",
       "MajorImageVersion             0.005562           -0.006564          0.026520   \n",
       "MajorOSVersion                0.193996            0.012626          0.183420   \n",
       "ExportRVA                     0.002458           -0.004613          0.002855   \n",
       "ExportSize                   -0.012077            0.002214          0.025139   \n",
       "IatVRA                        0.029398            0.017115          0.120933   \n",
       "MajorLinkerVersion            1.000000            0.041021          0.017235   \n",
       "MinorLinkerVersion            0.041021            1.000000          0.178002   \n",
       "NumberOfSections              0.017235            0.178002          1.000000   \n",
       "SizeOfStackReserve           -0.028226            0.001123          0.033020   \n",
       "DllCharacteristics            0.210027           -0.186791         -0.033054   \n",
       "ResourceSize                 -0.003666            0.004039          0.008418   \n",
       "BitcoinAddresses              0.015706           -0.024033          0.019807   \n",
       "Benign                        0.296925           -0.111294         -0.020433   \n",
       "\n",
       "                    SizeOfStackReserve  DllCharacteristics  ResourceSize  \\\n",
       "Machine                      -0.232794            0.033809     -0.000603   \n",
       "DebugSize                     0.001208           -0.003290     -0.000042   \n",
       "DebugRVA                     -0.009498            0.017233      0.000723   \n",
       "MajorImageVersion            -0.027773            0.000987     -0.000445   \n",
       "MajorOSVersion               -0.340831            0.071795     -0.001643   \n",
       "ExportRVA                     0.004430           -0.017103      0.000624   \n",
       "ExportSize                    0.003927           -0.011794     -0.000084   \n",
       "IatVRA                        0.019149           -0.007297      0.001187   \n",
       "MajorLinkerVersion           -0.028226            0.210027     -0.003666   \n",
       "MinorLinkerVersion            0.001123           -0.186791      0.004039   \n",
       "NumberOfSections              0.033020           -0.033054      0.008418   \n",
       "SizeOfStackReserve            1.000000            0.023360      0.000919   \n",
       "DllCharacteristics            0.023360            1.000000     -0.004083   \n",
       "ResourceSize                  0.000919           -0.004083      1.000000   \n",
       "BitcoinAddresses             -0.019754           -0.032010      0.005666   \n",
       "Benign                       -0.282151            0.261118     -0.002168   \n",
       "\n",
       "                    BitcoinAddresses    Benign  \n",
       "Machine                     0.070023  0.549434  \n",
       "DebugSize                  -0.000541 -0.003500  \n",
       "DebugRVA                    0.114187  0.072781  \n",
       "MajorImageVersion          -0.003054  0.049603  \n",
       "MajorOSVersion              0.021022  0.398076  \n",
       "ExportRVA                   0.004290 -0.012547  \n",
       "ExportSize                 -0.001738 -0.012457  \n",
       "IatVRA                      0.146013  0.084622  \n",
       "MajorLinkerVersion          0.015706  0.296925  \n",
       "MinorLinkerVersion         -0.024033 -0.111294  \n",
       "NumberOfSections            0.019807 -0.020433  \n",
       "SizeOfStackReserve         -0.019754 -0.282151  \n",
       "DllCharacteristics         -0.032010  0.261118  \n",
       "ResourceSize                0.005666 -0.002168  \n",
       "BitcoinAddresses            1.000000  0.054824  \n",
       "Benign                      0.054824  1.000000  "
      ]
     },
     "execution_count": 9,
     "metadata": {},
     "output_type": "execute_result"
    }
   ],
   "source": [
    "# Correlation between features\n",
    "data.corr()"
   ]
  },
  {
   "cell_type": "code",
   "execution_count": 10,
   "id": "96f9f81e",
   "metadata": {},
   "outputs": [
    {
     "name": "stderr",
     "output_type": "stream",
     "text": [
      "C:\\Users\\adero\\AppData\\Local\\Temp/ipykernel_2648/3865861743.py:2: FutureWarning: The default value of numeric_only in DataFrame.corr is deprecated. In a future version, it will default to False. Select only valid columns or specify the value of numeric_only to silence this warning.\n",
      "  data.corr()[\"Benign\"]\n"
     ]
    },
    {
     "data": {
      "text/plain": [
       "Machine               0.549434\n",
       "DebugSize            -0.003500\n",
       "DebugRVA              0.072781\n",
       "MajorImageVersion     0.049603\n",
       "MajorOSVersion        0.398076\n",
       "ExportRVA            -0.012547\n",
       "ExportSize           -0.012457\n",
       "IatVRA                0.084622\n",
       "MajorLinkerVersion    0.296925\n",
       "MinorLinkerVersion   -0.111294\n",
       "NumberOfSections     -0.020433\n",
       "SizeOfStackReserve   -0.282151\n",
       "DllCharacteristics    0.261118\n",
       "ResourceSize         -0.002168\n",
       "BitcoinAddresses      0.054824\n",
       "Benign                1.000000\n",
       "Name: Benign, dtype: float64"
      ]
     },
     "execution_count": 10,
     "metadata": {},
     "output_type": "execute_result"
    }
   ],
   "source": [
    "# Correlation with target variable\n",
    "data.corr()[\"Benign\"]"
   ]
  },
  {
   "cell_type": "code",
   "execution_count": 11,
   "id": "3dc65084",
   "metadata": {},
   "outputs": [
    {
     "data": {
      "text/plain": [
       "0    35367\n",
       "1    27118\n",
       "Name: Benign, dtype: int64"
      ]
     },
     "execution_count": 11,
     "metadata": {},
     "output_type": "execute_result"
    }
   ],
   "source": [
    "data[\"Benign\"].value_counts()"
   ]
  },
  {
   "cell_type": "markdown",
   "id": "65644f02",
   "metadata": {},
   "source": [
    "## PART III: Feature Engineering and Selection\n",
    "\n",
    "This is the Feature Engineering and Selection component of this solution. The workflow for this notebook is outlined as follows:\n",
    "- Engineering\n",
    "- Feature Selection\n",
    "- Splitting the data (Using K-fold and train_test_split)    \n"
   ]
  },
  {
   "cell_type": "markdown",
   "id": "bb54c9a9",
   "metadata": {},
   "source": [
    "## 1. Engineering"
   ]
  },
  {
   "cell_type": "code",
   "execution_count": 12,
   "id": "af0db85a",
   "metadata": {},
   "outputs": [],
   "source": [
    "#Convert the Debug Size feature to be 0 or 1\n",
    "data[\"DebugSize\"] = [0 if values == 0 else 1 for values in data[\"DebugSize\"]]"
   ]
  },
  {
   "cell_type": "code",
   "execution_count": 13,
   "id": "4aa6c024",
   "metadata": {},
   "outputs": [
    {
     "data": {
      "text/plain": [
       "<AxesSubplot:>"
      ]
     },
     "execution_count": 13,
     "metadata": {},
     "output_type": "execute_result"
    },
    {
     "data": {
      "image/png": "[encoded data removed]",
      "text/plain": [
       "<Figure size 432x288 with 1 Axes>"
      ]
     },
     "metadata": {
      "needs_background": "light"
     },
     "output_type": "display_data"
    }
   ],
   "source": [
    "data[\"DebugSize\"].value_counts().plot(kind = \"bar\")"
   ]
  },
  {
   "cell_type": "markdown",
   "id": "0ee9d559",
   "metadata": {},
   "source": [
    "## 2. Selection"
   ]
  },
  {
   "cell_type": "code",
   "execution_count": 14,
   "id": "506e9fb9",
   "metadata": {},
   "outputs": [
    {
     "data": {
      "text/html": [
       "<div>\n",
       "<style scoped>\n",
       "    .dataframe tbody tr th:only-of-type {\n",
       "        vertical-align: middle;\n",
       "    }\n",
       "\n",
       "    .dataframe tbody tr th {\n",
       "        vertical-align: top;\n",
       "    }\n",
       "\n",
       "    .dataframe thead th {\n",
       "        text-align: right;\n",
       "    }\n",
       "</style>\n",
       "<table border=\"1\" class=\"dataframe\">\n",
       "  <thead>\n",
       "    <tr style=\"text-align: right;\">\n",
       "      <th></th>\n",
       "      <th>Machine</th>\n",
       "      <th>DebugSize</th>\n",
       "      <th>DebugRVA</th>\n",
       "      <th>MajorImageVersion</th>\n",
       "      <th>MajorOSVersion</th>\n",
       "      <th>ExportRVA</th>\n",
       "      <th>MajorLinkerVersion</th>\n",
       "      <th>MinorLinkerVersion</th>\n",
       "      <th>NumberOfSections</th>\n",
       "      <th>SizeOfStackReserve</th>\n",
       "      <th>DllCharacteristics</th>\n",
       "      <th>ResourceSize</th>\n",
       "      <th>BitcoinAddresses</th>\n",
       "      <th>Benign</th>\n",
       "    </tr>\n",
       "  </thead>\n",
       "  <tbody>\n",
       "    <tr>\n",
       "      <th>0</th>\n",
       "      <td>332</td>\n",
       "      <td>0</td>\n",
       "      <td>0</td>\n",
       "      <td>0</td>\n",
       "      <td>4</td>\n",
       "      <td>0</td>\n",
       "      <td>8</td>\n",
       "      <td>0</td>\n",
       "      <td>3</td>\n",
       "      <td>1048576</td>\n",
       "      <td>34112</td>\n",
       "      <td>672</td>\n",
       "      <td>0</td>\n",
       "      <td>1</td>\n",
       "    </tr>\n",
       "    <tr>\n",
       "      <th>1</th>\n",
       "      <td>34404</td>\n",
       "      <td>1</td>\n",
       "      <td>121728</td>\n",
       "      <td>10</td>\n",
       "      <td>10</td>\n",
       "      <td>126576</td>\n",
       "      <td>14</td>\n",
       "      <td>10</td>\n",
       "      <td>8</td>\n",
       "      <td>262144</td>\n",
       "      <td>16864</td>\n",
       "      <td>1024</td>\n",
       "      <td>0</td>\n",
       "      <td>1</td>\n",
       "    </tr>\n",
       "    <tr>\n",
       "      <th>2</th>\n",
       "      <td>332</td>\n",
       "      <td>0</td>\n",
       "      <td>0</td>\n",
       "      <td>0</td>\n",
       "      <td>4</td>\n",
       "      <td>0</td>\n",
       "      <td>8</td>\n",
       "      <td>0</td>\n",
       "      <td>3</td>\n",
       "      <td>1048576</td>\n",
       "      <td>34112</td>\n",
       "      <td>672</td>\n",
       "      <td>0</td>\n",
       "      <td>1</td>\n",
       "    </tr>\n",
       "    <tr>\n",
       "      <th>3</th>\n",
       "      <td>34404</td>\n",
       "      <td>1</td>\n",
       "      <td>19904</td>\n",
       "      <td>10</td>\n",
       "      <td>10</td>\n",
       "      <td>21312</td>\n",
       "      <td>14</td>\n",
       "      <td>10</td>\n",
       "      <td>6</td>\n",
       "      <td>262144</td>\n",
       "      <td>16736</td>\n",
       "      <td>1040</td>\n",
       "      <td>0</td>\n",
       "      <td>1</td>\n",
       "    </tr>\n",
       "    <tr>\n",
       "      <th>4</th>\n",
       "      <td>34404</td>\n",
       "      <td>1</td>\n",
       "      <td>97728</td>\n",
       "      <td>10</td>\n",
       "      <td>10</td>\n",
       "      <td>105792</td>\n",
       "      <td>14</td>\n",
       "      <td>10</td>\n",
       "      <td>7</td>\n",
       "      <td>262144</td>\n",
       "      <td>16736</td>\n",
       "      <td>1096</td>\n",
       "      <td>0</td>\n",
       "      <td>1</td>\n",
       "    </tr>\n",
       "  </tbody>\n",
       "</table>\n",
       "</div>"
      ],
      "text/plain": [
       "   Machine  DebugSize  DebugRVA  MajorImageVersion  MajorOSVersion  ExportRVA  \\\n",
       "0      332          0         0                  0               4          0   \n",
       "1    34404          1    121728                 10              10     126576   \n",
       "2      332          0         0                  0               4          0   \n",
       "3    34404          1     19904                 10              10      21312   \n",
       "4    34404          1     97728                 10              10     105792   \n",
       "\n",
       "   MajorLinkerVersion  MinorLinkerVersion  NumberOfSections  \\\n",
       "0                   8                   0                 3   \n",
       "1                  14                  10                 8   \n",
       "2                   8                   0                 3   \n",
       "3                  14                  10                 6   \n",
       "4                  14                  10                 7   \n",
       "\n",
       "   SizeOfStackReserve  DllCharacteristics  ResourceSize  BitcoinAddresses  \\\n",
       "0             1048576               34112           672                 0   \n",
       "1              262144               16864          1024                 0   \n",
       "2             1048576               34112           672                 0   \n",
       "3              262144               16736          1040                 0   \n",
       "4              262144               16736          1096                 0   \n",
       "\n",
       "   Benign  \n",
       "0       1  \n",
       "1       1  \n",
       "2       1  \n",
       "3       1  \n",
       "4       1  "
      ]
     },
     "execution_count": 14,
     "metadata": {},
     "output_type": "execute_result"
    }
   ],
   "source": [
    "# This is based off correlation between features of the dataset and labels.\n",
    "data.drop([\"FileName\", \"md5Hash\", 'ExportSize', \"IatVRA\"], axis = 1, inplace = True)\n",
    "\n",
    "data.head()"
   ]
  },
  {
   "cell_type": "markdown",
   "id": "90f9f004",
   "metadata": {},
   "source": [
    "## 3. Splitting the data\n",
    "We need to split the data for modelling. We shall adopt the following:\n",
    "- train_test_split\n",
    "- Cross validation (K-Fold)"
   ]
  },
  {
   "cell_type": "code",
   "execution_count": 15,
   "id": "0c3bcb1f",
   "metadata": {},
   "outputs": [],
   "source": [
    "X = data.drop(\"Benign\", axis = 1)\n",
    "y = data[\"Benign\"]"
   ]
  },
  {
   "cell_type": "code",
   "execution_count": 16,
   "id": "d583ab93",
   "metadata": {},
   "outputs": [],
   "source": [
    "x_train, x_test, y_train, y_test = train_test_split(X, y, random_state = 42, test_size = 0.2)"
   ]
  },
  {
   "cell_type": "code",
   "execution_count": 17,
   "id": "fa644515",
   "metadata": {},
   "outputs": [],
   "source": [
    "from sklearn.preprocessing import StandardScaler, OrdinalEncoder\n",
    "from sklearn.impute import SimpleImputer\n",
    "from sklearn.compose import ColumnTransformer\n",
    "from sklearn.pipeline import Pipeline"
   ]
  },
  {
   "cell_type": "code",
   "execution_count": 18,
   "id": "87f57c63",
   "metadata": {},
   "outputs": [],
   "source": [
    "#DECLARING THE TRANSFORMERS: ONE FOR NUMERICAL AND THE OTHER FOR CATEGORICAL\n",
    "\n",
    "numeric_transformer = Pipeline(steps=[\n",
    "       ('imputer', SimpleImputer(strategy='mean'))\n",
    "      ,('scaler', StandardScaler())\n",
    "])\n",
    "categorical_transformer = Pipeline(steps=[\n",
    "       ('imputer', SimpleImputer(strategy='constant'))\n",
    "      ,('encoder', OrdinalEncoder())\n",
    "])"
   ]
  },
  {
   "cell_type": "code",
   "execution_count": 19,
   "id": "70e142c1",
   "metadata": {},
   "outputs": [],
   "source": [
    "#DECLARING THE NUMERICAL AND CATEGORICAL FEATURES\n",
    "\n",
    "numeric_features = ['Machine', 'DebugRVA', 'MajorImageVersion',\n",
    "       'MajorOSVersion', 'ExportRVA', 'MajorLinkerVersion',\n",
    "       'MinorLinkerVersion', 'NumberOfSections', 'SizeOfStackReserve',\n",
    "       'DllCharacteristics', 'ResourceSize']\n",
    "\n",
    "categorical_features = [\"DebugSize\", \"BitcoinAddresses\"]\n",
    "preprocessor = ColumnTransformer(\n",
    "   transformers=[\n",
    "    ('numeric', numeric_transformer, numeric_features)\n",
    "   ,('categorical', categorical_transformer, categorical_features)\n",
    "]) "
   ]
  },
  {
   "cell_type": "code",
   "execution_count": 20,
   "id": "4613e95c",
   "metadata": {},
   "outputs": [],
   "source": [
    "# PASSING THE TRANSFORMERS (NUMERICAL AND CATEGORICAL AS ONE) AND THE DESIRED ALGO INTO SKLEARN PIPELINE\n",
    "pipeline = Pipeline(steps = [\n",
    "               ('preprocessor', preprocessor)\n",
    "              ,('classifier',RandomForestClassifier())\n",
    "           ])"
   ]
  },
  {
   "cell_type": "code",
   "execution_count": 21,
   "id": "944ab805",
   "metadata": {},
   "outputs": [],
   "source": [
    "model1_2 = pipeline.fit(x_train, y_train)\n",
    "predi = model1_2.predict(x_test)"
   ]
  },
  {
   "cell_type": "code",
   "execution_count": 22,
   "id": "e8930211",
   "metadata": {},
   "outputs": [
    {
     "name": "stdout",
     "output_type": "stream",
     "text": [
      "              precision    recall  f1-score   support\n",
      "\n",
      "           0       1.00      1.00      1.00      7132\n",
      "           1       0.99      1.00      1.00      5365\n",
      "\n",
      "    accuracy                           1.00     12497\n",
      "   macro avg       1.00      1.00      1.00     12497\n",
      "weighted avg       1.00      1.00      1.00     12497\n",
      "\n"
     ]
    }
   ],
   "source": [
    "print(classification_report(predi, y_test))"
   ]
  },
  {
   "cell_type": "code",
   "execution_count": null,
   "id": "58155f96",
   "metadata": {},
   "outputs": [],
   "source": []
  },
  {
   "cell_type": "code",
   "execution_count": null,
   "id": "b2053c8b",
   "metadata": {},
   "outputs": [],
   "source": []
  },
  {
   "cell_type": "code",
   "execution_count": 23,
   "id": "a9f8ddea",
   "metadata": {},
   "outputs": [],
   "source": [
    "# A CUSTOM FUNCTION TO IMPLEMENT CROSS VALIDATION\n",
    "\n",
    "def cross_validation(model, _X, _y, _cv=5):\n",
    "    _scoring = ['accuracy', 'precision', 'recall', 'f1']\n",
    "    results = cross_validate(estimator=model,\n",
    "                               X=_X,\n",
    "                               y=_y,\n",
    "                               cv=_cv,\n",
    "                               scoring=_scoring,\n",
    "                               return_train_score=True)\n",
    "    return {\"Training Accuracy scores\": results['train_accuracy'],\n",
    "              \"Mean Training Accuracy\": results['train_accuracy'].mean()*100,\n",
    "              \"Training Precision scores\": results['train_precision'],\n",
    "              \"Mean Training Precision\": results['train_precision'].mean(),\n",
    "              \"Training Recall scores\": results['train_recall'],\n",
    "              \"Mean Training Recall\": results['train_recall'].mean(),\n",
    "              \"Training F1 scores\": results['train_f1'],\n",
    "              \"Mean Training F1 Score\": results['train_f1'].mean(),\n",
    "              \"Validation Accuracy scores\": results['test_accuracy'],\n",
    "              \"Mean Validation Accuracy\": results['test_accuracy'].mean()*100,\n",
    "              \"Validation Precision scores\": results['test_precision'],\n",
    "              \"Mean Validation Precision\": results['test_precision'].mean(),\n",
    "              \"Validation Recall scores\": results['test_recall'],\n",
    "              \"Mean Validation Recall\": results['test_recall'].mean(),\n",
    "              \"Validation F1 scores\": results['test_f1'],\n",
    "              \"Mean Validation F1 Score\": results['test_f1'].mean()\n",
    "              }"
   ]
  },
  {
   "cell_type": "markdown",
   "id": "40b1c31f",
   "metadata": {},
   "source": [
    "## Part IV: Modelling Methodology\n",
    "### Overview\n",
    "\n",
    "This is the Machine Learning component of this solution to the task. The workflow for this notebook is outlined as follows:\n",
    "- Pick algorithms to train on the data\n",
    "- Make predictions on test data\n",
    "\n",
    "\n"
   ]
  },
  {
   "cell_type": "code",
   "execution_count": 24,
   "id": "27301247",
   "metadata": {},
   "outputs": [],
   "source": [
    "#DECLARING THE ALGORITHM\n",
    "model1 = RandomForestClassifier()"
   ]
  },
  {
   "cell_type": "code",
   "execution_count": 25,
   "id": "40d7f28e",
   "metadata": {},
   "outputs": [
    {
     "data": {
      "text/plain": [
       "{'Training Accuracy scores': array([0.99971993, 0.99955989, 0.99969993, 0.9995999 , 0.99965992]),\n",
       " 'Mean Training Accuracy': 99.964791549972,\n",
       " 'Training Precision scores': array([0.99967733, 0.99949295, 0.99986166, 0.99972334, 0.9996773 ]),\n",
       " 'Mean Training Precision': 0.9996865139933291,\n",
       " 'Training Recall scores': array([0.99967733, 0.99949295, 0.99944685, 0.99935469, 0.99953906]),\n",
       " 'Mean Training Recall': 0.9995021766962818,\n",
       " 'Training F1 scores': array([0.99967733, 0.99949295, 0.99965421, 0.99953898, 0.99960818]),\n",
       " 'Mean Training F1 Score': 0.9995943289847352,\n",
       " 'Validation Accuracy scores': array([0.99319837, 0.99591902, 0.99503881, 0.99639914, 0.99639914]),\n",
       " 'Mean Validation Accuracy': 99.53908938145155,\n",
       " 'Validation Precision scores': array([0.99536092, 0.99759215, 0.99666543, 0.99704251, 0.9963086 ]),\n",
       " 'Mean Validation Precision': 0.996593922710311,\n",
       " 'Validation Recall scores': array([0.98893805, 0.9929941 , 0.99188791, 0.99465241, 0.99539001]),\n",
       " 'Mean Validation Recall': 0.9927724941892311,\n",
       " 'Validation F1 scores': array([0.99213909, 0.99528781, 0.99427093, 0.99584603, 0.99584909]),\n",
       " 'Mean Validation F1 Score': 0.9946785903712868}"
      ]
     },
     "execution_count": 25,
     "metadata": {},
     "output_type": "execute_result"
    }
   ],
   "source": [
    "# Training With Cross Validation\n",
    "model_result = cross_validation(model1, X, y, 5)\n",
    "model_result"
   ]
  },
  {
   "cell_type": "code",
   "execution_count": 26,
   "id": "7dbc0c7a",
   "metadata": {},
   "outputs": [
    {
     "data": {
      "text/plain": [
       "49988"
      ]
     },
     "execution_count": 26,
     "metadata": {},
     "output_type": "execute_result"
    }
   ],
   "source": [
    "len(y_train)"
   ]
  },
  {
   "cell_type": "code",
   "execution_count": 27,
   "id": "14fba8ee",
   "metadata": {},
   "outputs": [
    {
     "data": {
      "text/plain": [
       "12497"
      ]
     },
     "execution_count": 27,
     "metadata": {},
     "output_type": "execute_result"
    }
   ],
   "source": [
    "len(y_test)"
   ]
  },
  {
   "cell_type": "code",
   "execution_count": 28,
   "id": "500efa0e",
   "metadata": {},
   "outputs": [],
   "source": [
    "# Training Without Cross Validation\n",
    "model1.fit(x_train, y_train)\n",
    "prediction = model1.predict(x_test)"
   ]
  },
  {
   "cell_type": "code",
   "execution_count": 29,
   "id": "af41d9b0",
   "metadata": {},
   "outputs": [
    {
     "name": "stdout",
     "output_type": "stream",
     "text": [
      "[0 1 1 0 0 1 0 1 0 1 1 1 0 1 1] 51802    0\n",
      "15780    1\n",
      "3788     1\n",
      "58196    0\n",
      "47275    0\n",
      "3798     1\n",
      "41296    0\n",
      "26632    1\n",
      "46207    0\n",
      "10574    1\n",
      "19214    1\n",
      "7451     1\n",
      "31785    0\n",
      "12796    1\n",
      "11821    1\n",
      "Name: Benign, dtype: int64\n"
     ]
    },
    {
     "name": "stderr",
     "output_type": "stream",
     "text": [
      "C:\\Users\\adero\\AppData\\Local\\Temp/ipykernel_2648/1320278211.py:1: FutureWarning: The behavior of `series[i:j]` with an integer-dtype index is deprecated. In a future version, this will be treated as *label-based* indexing, consistent with e.g. `series[i]` lookups. To retain the old behavior, use `series.iloc[i:j]`. To get the future behavior, use `series.loc[i:j]`.\n",
      "  print(prediction[:15], y_test[:15])\n"
     ]
    }
   ],
   "source": [
    "print(prediction[:15], y_test[:15])"
   ]
  },
  {
   "cell_type": "markdown",
   "id": "40f7a07c",
   "metadata": {},
   "source": [
    "# Evaluation\n",
    "\n",
    "## Overview\n",
    "\n",
    "This is the Evaluation component of this solution to the task. The workflow for this notebook is outlined as follows:\n",
    "- Compare our model's prediction to the actual labels of the test data.\n",
    "- Visualize some of these evaluations\n",
    "\n",
    "We will consider the following metrics:\n",
    "- Accuracy\n",
    "- Precision\n",
    "- Recall\n",
    "- Confusion Matrix\n",
    "- Area Under Curve (AUC)"
   ]
  },
  {
   "cell_type": "code",
   "execution_count": 30,
   "id": "c3bee45c",
   "metadata": {},
   "outputs": [],
   "source": [
    "# CUSTOM FUNCTION FOR VISUALIZING OUR RESULTS\n",
    "\n",
    "# Grouped Bar Chart for both training and validation data\n",
    "def plot_result(x_label, y_label, plot_title, train_data, val_data):\n",
    "    # Set size of plot\n",
    "    plt.figure(figsize=(12,6))\n",
    "    labels = [\"1st Fold\", \"2nd Fold\", \"3rd Fold\", \"4th Fold\", \"5th Fold\"]\n",
    "    X_axis = np.arange(len(labels))\n",
    "    ax = plt.gca()\n",
    "    plt.ylim(0.40000, 1)\n",
    "    plt.bar(X_axis-0.2, train_data, 0.4, color='blue', label='Training')\n",
    "    plt.bar(X_axis+0.2, val_data, 0.4, color='red', label='Validation')\n",
    "    plt.title(plot_title, fontsize=30)\n",
    "    plt.xticks(X_axis, labels)\n",
    "    plt.xlabel(x_label, fontsize=14)\n",
    "    plt.ylabel(y_label, fontsize=14)\n",
    "    plt.legend()\n",
    "    plt.grid(True)\n",
    "    plt.show()"
   ]
  },
  {
   "cell_type": "markdown",
   "id": "94ff1230",
   "metadata": {},
   "source": [
    "## 1. Accuracy"
   ]
  },
  {
   "cell_type": "code",
   "execution_count": 31,
   "id": "7c8f3e52",
   "metadata": {},
   "outputs": [
    {
     "data": {
      "image/png": "[encoded data removed]",
      "text/plain": [
       "<Figure size 864x432 with 1 Axes>"
      ]
     },
     "metadata": {
      "needs_background": "light"
     },
     "output_type": "display_data"
    }
   ],
   "source": [
    "model_name = \"Random Forest\"\n",
    "plot_result(model_name, \"Accuracy\", \"Accuracy In 5 Folds\",\n",
    "           model_result[\"Training Accuracy scores\"],\n",
    "           model_result[\"Validation Accuracy scores\"])"
   ]
  },
  {
   "cell_type": "markdown",
   "id": "cc7d3b92",
   "metadata": {},
   "source": [
    "## 2. Precision"
   ]
  },
  {
   "cell_type": "code",
   "execution_count": 32,
   "id": "8fcf24ac",
   "metadata": {},
   "outputs": [
    {
     "data": {
      "image/png": "[encoded data removed]",
      "text/plain": [
       "<Figure size 864x432 with 1 Axes>"
      ]
     },
     "metadata": {
      "needs_background": "light"
     },
     "output_type": "display_data"
    }
   ],
   "source": [
    "plot_result(model_name, \"Precision\", \"Precision Score In 5 Folds\",\n",
    "           model_result[\"Training Precision scores\"],\n",
    "           model_result[\"Validation Precision scores\"])"
   ]
  },
  {
   "cell_type": "markdown",
   "id": "9b82c5eb",
   "metadata": {},
   "source": [
    "## 3. Recall"
   ]
  },
  {
   "cell_type": "code",
   "execution_count": 33,
   "id": "d07ec333",
   "metadata": {},
   "outputs": [
    {
     "data": {
      "image/png": "[encoded data removed]",
      "text/plain": [
       "<Figure size 864x432 with 1 Axes>"
      ]
     },
     "metadata": {
      "needs_background": "light"
     },
     "output_type": "display_data"
    }
   ],
   "source": [
    "plot_result(model_name, \"Recall\", \"Recall In 5 Folds\",\n",
    "           model_result[\"Training Recall scores\"],\n",
    "           model_result[\"Validation Recall scores\"])"
   ]
  },
  {
   "cell_type": "code",
   "execution_count": null,
   "id": "edcc7a6c",
   "metadata": {},
   "outputs": [],
   "source": [
    "\n",
    "\n",
    " "
   ]
  },
  {
   "cell_type": "code",
   "execution_count": null,
   "id": "cf75fa6f",
   "metadata": {},
   "outputs": [],
   "source": []
  },
  {
   "cell_type": "code",
   "execution_count": 34,
   "id": "47a496b9",
   "metadata": {},
   "outputs": [
    {
     "name": "stdout",
     "output_type": "stream",
     "text": [
      "              precision    recall  f1-score   support\n",
      "\n",
      "           0       1.00      1.00      1.00      7127\n",
      "           1       1.00      1.00      1.00      5370\n",
      "\n",
      "    accuracy                           1.00     12497\n",
      "   macro avg       1.00      1.00      1.00     12497\n",
      "weighted avg       1.00      1.00      1.00     12497\n",
      "\n",
      "[[7102   23]\n",
      " [  25 5347]]\n"
     ]
    }
   ],
   "source": [
    "print(classification_report(prediction, y_test))\n",
    "print(confusion_matrix(y_test, prediction))"
   ]
  },
  {
   "cell_type": "code",
   "execution_count": 35,
   "id": "759bb5a8",
   "metadata": {},
   "outputs": [
    {
     "name": "stderr",
     "output_type": "stream",
     "text": [
      "C:\\Users\\adero\\anaconda3\\envs\\tensorflow\\lib\\site-packages\\sklearn\\utils\\deprecation.py:87: FutureWarning: Function plot_roc_curve is deprecated; Function :func:`plot_roc_curve` is deprecated in 1.0 and will be removed in 1.2. Use one of the class methods: :meth:`sklearn.metric.RocCurveDisplay.from_predictions` or :meth:`sklearn.metric.RocCurveDisplay.from_estimator`.\n",
      "  warnings.warn(msg, category=FutureWarning)\n"
     ]
    },
    {
     "data": {
      "text/plain": [
       "<sklearn.metrics._plot.roc_curve.RocCurveDisplay at 0x1fb4d1b5be0>"
      ]
     },
     "execution_count": 35,
     "metadata": {},
     "output_type": "execute_result"
    },
    {
     "data": {
      "image/png": "[encoded data removed]",
      "text/plain": [
       "<Figure size 432x288 with 1 Axes>"
      ]
     },
     "metadata": {
      "needs_background": "light"
     },
     "output_type": "display_data"
    }
   ],
   "source": [
    "plot_roc_curve(model1, x_test, y_test) "
   ]
  }
 ],
 "metadata": {
  "kernelspec": {
   "display_name": "Python 3 (ipykernel)",
   "language": "python",
   "name": "python3"
  },
  "language_info": {
   "codemirror_mode": {
    "name": "ipython",
    "version": 3
   },
   "file_extension": ".py",
   "mimetype": "text/x-python",
   "name": "python",
   "nbconvert_exporter": "python",
   "pygments_lexer": "ipython3",
   "version": "3.8.12"
  }
 },
 "nbformat": 4,
 "nbformat_minor": 5
}
